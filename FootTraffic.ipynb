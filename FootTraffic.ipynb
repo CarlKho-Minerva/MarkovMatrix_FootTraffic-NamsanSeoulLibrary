{
 "cells": [
  {
   "cell_type": "markdown",
   "metadata": {
    "collapsed": false
   },
   "source": [
    "# Appendix"
   ]
  },
  {
   "cell_type": "code",
   "execution_count": 1,
   "metadata": {
    "collapsed": false
   },
   "outputs": [],
   "source": [
    "# Staying data at different times (in PM)\n",
    "staying_data = {\n",
    "          # 2:45 | 4 | 5 PM\n",
    "    \"Entrance\": [0, 0, 0],\n",
    "    \"Book Cafe\": [5, 7, 8],\n",
    "    \"Outdoors\": [2, 6, 11],\n",
    "    \"Seats\": [10, 15, 15],\n",
    "    \"Printing Area\": [0, 0, 2],\n",
    "    \"PC Zone\": [15, 9, 7]\n",
    "}"
   ]
  },
  {
   "cell_type": "markdown",
   "metadata": {
    "collapsed": false
   },
   "source": [
    "## Calculating Average Stay Duration\n",
    "\n",
    "We first calculate the average duration of stay in each area. This gives us an insight into which areas are most frequented and for how long. The average stay duration, \\( \\bar{x} \\), is calculated as:\n",
    "\n",
    "$$\n",
    "\\bar{x} = \\frac{\\sum_{i=1}^{n} x_i}{n}\n",
    "$$\n",
    "\n",
    "where \\( x_i \\) is the stay duration in each interval, and \\( n \\) is the number of intervals.\n"
   ]
  },
  {
   "cell_type": "code",
   "execution_count": 13,
   "metadata": {
    "collapsed": false
   },
   "outputs": [
    {
     "name": "stdout",
     "output_type": "stream",
     "text": [
      "Average Staying Data: {'Entrance': 0, 'Book Cafe': 20/3, 'Outdoors': 19/3, 'Seats': 40/3, 'Printing Area': 2/3, 'PC Zone': 31/3}\n"
     ]
    }
   ],
   "source": [
    "# Calculate average for staying data\n",
    "average_staying = {area: sum(counts)/len(counts) for area, counts in staying_data.items()}\n",
    "print(f\"Average Staying Data: {average_staying}\")\n"
   ]
  },
  {
   "cell_type": "markdown",
   "metadata": {
    "collapsed": false
   },
   "source": [
    "## In-Transit Data Between Areas\n",
    "\n",
    "Next, we analyze the movement of people between different areas of the library. This helps us understand the traffic flow and connectivity between different sections.\n"
   ]
  },
  {
   "cell_type": "code",
   "execution_count": 14,
   "metadata": {
    "collapsed": false
   },
   "outputs": [],
   "source": [
    "# In transit data between areas\n",
    "in_transit_data = {\n",
    "                        # 2:45 | 4 | 5 PM\n",
    "    (\"Entrance\", \"Outdoors\"): [1, 2, 3],\n",
    "    (\"Entrance\", \"Book Cafe\"): [2, 4, 4],\n",
    "    (\"Entrance\", \"Seats\"): [2, 4, 4],\n",
    "    (\"Outdoors\", \"Seats\"): [1, 2, 3],\n",
    "    (\"Seats\", \"Book Cafe\"): [2, 1, 4],\n",
    "    (\"Seats\", \"Printing Area\"): [1, 2, 5],\n",
    "    (\"Seats\", \"PC Zone\"): [2, 3, 2],\n",
    "    (\"PC Zone\", \"Printing Area\"): [0, 1, 1]\n",
    "}\n"
   ]
  },
  {
   "cell_type": "markdown",
   "metadata": {
    "collapsed": false
   },
   "source": [
    "## Average In-Transit Data\n",
    "\n",
    "We calculate the average number of people moving between different areas. This data is crucial for understanding the most and least used pathways in the library.\n"
   ]
  },
  {
   "cell_type": "code",
   "execution_count": 15,
   "metadata": {
    "collapsed": false
   },
   "outputs": [
    {
     "name": "stdout",
     "output_type": "stream",
     "text": [
      "Average In-Transit Data: {('Entrance', 'Outdoors'): 2, ('Entrance', 'Book Cafe'): 10/3, ('Entrance', 'Seats'): 10/3, ('Outdoors', 'Seats'): 2, ('Seats', 'Book Cafe'): 7/3, ('Seats', 'Printing Area'): 8/3, ('Seats', 'PC Zone'): 7/3, ('PC Zone', 'Printing Area'): 2/3}\n"
     ]
    }
   ],
   "source": [
    "# Calculate average for in transit data\n",
    "average_in_transit = {areas: sum(counts)/len(counts) for areas, counts in in_transit_data.items()}\n",
    "print(f\"Average In-Transit Data: {average_in_transit}\")\n"
   ]
  },
  {
   "cell_type": "markdown",
   "metadata": {
    "collapsed": false
   },
   "source": [
    "## Constructing the Traffic Matrix\n",
    "\n",
    "The traffic matrix represents the average movement and stay duration in each area. It's a crucial component for modeling the foot traffic dynamics in the library.\n"
   ]
  },
  {
   "cell_type": "code",
   "execution_count": 18,
   "metadata": {
    "collapsed": false
   },
   "outputs": [
    {
     "name": "stdout",
     "output_type": "stream",
     "text": [
      "The Foot Traffic Matrix:\n",
      "[   0 10/3    2 10/3    0    0]\n",
      "[10/3 20/3    0  7/3    0    0]\n",
      "[   2    0 19/3    2    0    0]\n",
      "[10/3  7/3    2 40/3  8/3  7/3]\n",
      "[   0    0    0  8/3  2/3  2/3]\n",
      "[   0    0    0  7/3  2/3 31/3]\n"
     ]
    }
   ],
   "source": [
    "# Define the final matrix with aggregated data\n",
    "final_matrix = matrix([\n",
    "    [0, average_in_transit[(\"Entrance\", \"Book Cafe\")], average_in_transit[(\"Entrance\", \"Outdoors\")], average_in_transit[(\"Entrance\", \"Seats\")], 0, 0],\n",
    "    [average_in_transit[(\"Entrance\", \"Book Cafe\")], average_staying[\"Book Cafe\"], 0, average_in_transit[(\"Seats\", \"Book Cafe\")], 0, 0],\n",
    "    [average_in_transit[(\"Entrance\", \"Outdoors\")], 0, average_staying[\"Outdoors\"], average_in_transit[(\"Outdoors\", \"Seats\")], 0, 0],\n",
    "    [average_in_transit[(\"Entrance\", \"Seats\")], average_in_transit[(\"Seats\", \"Book Cafe\")], average_in_transit[(\"Outdoors\", \"Seats\")], average_staying[\"Seats\"], average_in_transit[(\"Seats\", \"Printing Area\")], average_in_transit[(\"Seats\", \"PC Zone\")]],\n",
    "    [0, 0, 0, average_in_transit[(\"Seats\", \"Printing Area\")], average_staying[\"Printing Area\"], average_in_transit[(\"PC Zone\", \"Printing Area\")]],\n",
    "    [0, 0, 0, average_in_transit[(\"Seats\", \"PC Zone\")], average_in_transit[(\"PC Zone\", \"Printing Area\")], average_staying[\"PC Zone\"]]\n",
    "])\n",
    "\n",
    "print(f\"The Foot Traffic Matrix:\\n{final_matrix}\")"
   ]
  },
  {
   "cell_type": "markdown",
   "metadata": {
    "collapsed": false
   },
   "source": [
    "## Normalizing the Traffic Matrix\n",
    "\n",
    "Normalization of the traffic matrix is essential for ensuring that the sum of probabilities in each column equals one. This step is crucial for the accuracy of our model. The normalization is done using the formula:\n",
    "\n",
    "$$\n",
    "\\text{Normalized Entry} = \\frac{\\text{Matrix Entry}}{\\text{Column Sum}}\n",
    "$$\n"
   ]
  },
  {
   "cell_type": "code",
   "execution_count": 21,
   "metadata": {
    "collapsed": false
   },
   "outputs": [
    {
     "name": "stdout",
     "output_type": "stream",
     "text": [
      "Column Sums:\n",
      "[26/3, 37/3, 31/3, 26, 4, 40/3]\n",
      "\n",
      "\n",
      "Normalized Matrix:\n",
      "[    0 10/37  6/31  5/39     0     0]\n",
      "[ 5/13 20/37     0  7/78     0     0]\n",
      "[ 3/13     0 19/31  1/13     0     0]\n",
      "[ 5/13  7/37  6/31 20/39   2/3  7/40]\n",
      "[    0     0     0  4/39   1/6  1/20]\n",
      "[    0     0     0  7/78   1/6 31/40]\n"
     ]
    }
   ],
   "source": [
    "# Normalizing the matrix\n",
    "column_sums = [sum(column) for column in zip(*final_matrix)]\n",
    "normalized_matrix = matrix([[entry/column_sums[j] for j, entry in enumerate(row)] for row in final_matrix])\n",
    "\n",
    "print(f\"Column Sums:\\n{column_sums}\\n\\n\")\n",
    "print(f\"Normalized Matrix:\\n{normalized_matrix}\")\n"
   ]
  },
  {
   "cell_type": "markdown",
   "metadata": {
    "collapsed": false
   },
   "source": [
    "## Eigenvalues and Eigenvectors: Understanding Long-Term Traffic Patterns\n",
    "\n",
    "Eigenvalues and eigenvectors play a crucial role in understanding the long-term behavior of systems, such as foot traffic in our case. By analyzing the eigenvalues and eigenvectors of the normalized traffic matrix, we can predict how the distribution of people in different areas of the library stabilizes over time.\n",
    "\n",
    "### The Mathematical Concept\n",
    "\n",
    "The relationship between a matrix, its eigenvalues, and its eigenvectors is foundational in linear algebra and is expressed by the equation:\n",
    "\n",
    "$$\n",
    "A\\mathbf{v} = \\lambda\\mathbf{v}\n",
    "$$\n",
    "\n",
    "In this equation:\n",
    "- \\( A \\) represents our normalized traffic matrix.\n",
    "- \\( v \\) is an eigenvector of \\( A \\).\n",
    "- \\( λ \\) is the corresponding eigenvalue of \\( v \\).\n",
    "\n",
    "### Interpretation in Our Context\n",
    "\n",
    "- **Eigenvectors** \\( v )\\: These vectors provide the \"direction\" of the traffic flow in the long term. In our context, each eigenvector represents a possible pattern of how people distribute themselves across different areas of the library.\n",
    "- **Eigenvalues** \\( λ \\): These values indicate the \"magnitude\" or \"scaling factor\" for each eigenvector. A higher eigenvalue corresponds to a more dominant or likely traffic pattern.\n",
    "\n",
    "### Why It Matters\n",
    "\n",
    "- **Steady State**: Over time, the foot traffic distribution tends to align with the eigenvector associated with the largest eigenvalue. This is because, as the matrix is repeatedly applied (akin to passing time), the contributions from other eigenvectors diminish relative to the dominant one.\n",
    "\n",
    "- **Predictive Power**: By identifying this dominant eigenvector, we can predict the most likely long-term distribution of people across the library's areas, assuming current trends continue."
   ]
  },
  {
   "cell_type": "code",
   "execution_count": 24,
   "metadata": {
    "collapsed": false
   },
   "outputs": [
    {
     "name": "stdout",
     "output_type": "stream",
     "text": [
      "Eigenvalues:\n",
      "[1, -0.2249517122674667?, 0.01986095248041045?, 0.4449706883284240?, 0.586927644532651?, 0.7811233727601529?]\n",
      "\n",
      "\n",
      "Eigenvectors:\n",
      "(1, [\n",
      "(1, 37/26, 31/26, 3, 6/13, 20/13)\n",
      "], 1)\n"
     ]
    }
   ],
   "source": [
    "# Calculating eigenvalues and eigenvectors\n",
    "eigenvalues, eigenvectors = normalized_matrix.eigenvalues(), normalized_matrix.eigenvectors_right()\n",
    "\n",
    "print(f\"Eigenvalues:\\n{eigenvalues}\\n\\n\")\n",
    "\n",
    "# showing only the relevant eigenvector with the anticipated long-term ration (i.e. eigenvector assosciated with eigenvalue 1)\n",
    "print(f\"Eigenvectors:\\n{eigenvectors[0]}\")\n"
   ]
  },
  {
   "cell_type": "markdown",
   "metadata": {
    "collapsed": false
   },
   "source": [
    "## Long-Term Traffic Patterns\n",
    "\n",
    "We use the power method by raising the normalized matrix to a high power. This helps us predict the long-term distribution of foot traffic in the library. The long-term traffic pattern is expected to follow the ratio of the eigenvectors because:\n",
    "\n",
    "$$\n",
    "\\text{M}^{k}v \\approx \\lambda^{k}v\n",
    "$$\n",
    "\n",
    "As \\( k \\) becomes very large, the vector \\( \\text{M}^{k}v \\) approaches a steady state, indicating the long-term traffic distribution.\n"
   ]
  },
  {
   "cell_type": "code",
   "execution_count": 27,
   "metadata": {
    "collapsed": false
   },
   "outputs": [
    {
     "name": "stdout",
     "output_type": "stream",
     "text": [
      "Long-term distribution starting at Entrance:\n",
      "(0.116071428571429, 0.165178571428571, 0.138392857142857, 0.348214285714286, 0.0535714285714286, 0.178571428571429)\n",
      "\n",
      "\n",
      "Long-term distribution for Readers Only:\n",
      "(0.116071428571429, 0.165178571428571, 0.138392857142857, 0.348214285714286, 0.0535714285714286, 0.178571428571429)\n",
      "\n",
      "\n",
      "Long-term distribution for service users (with a little bit of indoor readers):\n",
      "(0.116071428571429, 0.165178571428571, 0.138392857142857, 0.348214285714286, 0.0535714285714286, 0.178571428571429)\n",
      "\n",
      "\n"
     ]
    }
   ],
   "source": [
    "M_1000 = normalized_matrix^1000\n",
    "\n",
    "# Define three initial distributions (vectors summing to one)\n",
    "vector_startEntrance = vector([1, 0, 0, 0, 0, 0])  # start in the entrance (most realistic)\n",
    "vector_readersOnly   = vector([0, 1/3, 1/3, 1/3, 0, 0])         # Concentrated in reading (book cafe, seated, outdoors)\n",
    "vector_libraryServices = vector([0, 0, 0, 1/3, 1/3, 1/3])          # Concentrated in the services, but some reading indoors (Seating, Printing, PC Zone)\n",
    "\n",
    "print(f\"Long-term distribution starting at Entrance:\\n{M_1000 * vector_startEntrance.n()}\\n\\n\")\n",
    "\n",
    "print(f\"Long-term distribution for Readers Only:\\n{M_1000 * vector_readersOnly.n()}\\n\\n\")\n",
    "\n",
    "print(f\"Long-term distribution for service users (with a little bit of indoor readers):\\n{M_1000 * vector_readersOnly.n()}\\n\\n\")\n"
   ]
  }
 ],
 "metadata": {
  "kernelspec": {
   "argv": [
    "sage-10.1",
    "--python",
    "-m",
    "sage.repl.ipython_kernel",
    "--matplotlib=inline",
    "-f",
    "{connection_file}"
   ],
   "display_name": "SageMath 10.1",
   "env": {},
   "language": "sagemath",
   "metadata": {
    "cocalc": {
     "description": "Open-source mathematical software system",
     "priority": 10,
     "url": "https://www.sagemath.org/"
    }
   },
   "name": "sage-10.1",
   "resource_dir": "/ext/jupyter/kernels/sage-10.1"
  },
  "language_info": {
   "codemirror_mode": {
    "name": "ipython",
    "version": 3
   },
   "file_extension": ".py",
   "mimetype": "text/x-python",
   "name": "python",
   "nbconvert_exporter": "python",
   "pygments_lexer": "ipython3",
   "version": "3.11.1"
  }
 },
 "nbformat": 4,
 "nbformat_minor": 4
}
